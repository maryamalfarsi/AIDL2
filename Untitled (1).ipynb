{
 "cells": [
  {
   "cell_type": "code",
   "execution_count": 1,
   "id": "aa8281e2",
   "metadata": {},
   "outputs": [],
   "source": [
    "train_dir = '/Users/Maryam Waleed/Downloads/archive/PandasBears/train'\n",
    "test_dir = '/Users/Maryam Waleed/Downloads/archive/PandasBears/test'"
   ]
  },
  {
   "cell_type": "code",
   "execution_count": 2,
   "id": "29b8be16",
   "metadata": {},
   "outputs": [
    {
     "name": "stdout",
     "output_type": "stream",
     "text": [
      "250\n",
      "250\n",
      "50\n",
      "50\n"
     ]
    }
   ],
   "source": [
    "import os\n",
    "print(len(os.listdir('/Users/Maryam Waleed/Downloads/archive/PandasBears/train/Bears')))\n",
    "print(len(os.listdir('/Users/Maryam Waleed/Downloads/archive/PandasBears/train/Pandas')))\n",
    "print(len(os.listdir('/Users/Maryam Waleed/Downloads/archive/PandasBears/Test/Bears')))\n",
    "print(len(os.listdir('/Users/Maryam Waleed/Downloads/archive/PandasBears/Test/Pandas')))"
   ]
  },
  {
   "cell_type": "code",
   "execution_count": 4,
   "id": "0f06425a",
   "metadata": {},
   "outputs": [
    {
     "name": "stdout",
     "output_type": "stream",
     "text": [
      "Found 400 images belonging to 2 classes.\n",
      "Found 100 images belonging to 2 classes.\n"
     ]
    }
   ],
   "source": [
    "import tensorflow as tf\n",
    "from tensorflow.keras.preprocessing.image import ImageDataGenerator\n",
    "\n",
    "# Create ImageDataGenerator for training set\n",
    "train_datagen = ImageDataGenerator(\n",
    "    rescale=1./255,\n",
    "    validation_split=0.2  # Split 20% of the images for validation\n",
    ")\n",
    "\n",
    "# Load and prepare training data\n",
    "train_data = train_datagen.flow_from_directory(\n",
    "    train_dir,\n",
    "    target_size=(256,256),\n",
    "    batch_size=32,\n",
    "    class_mode='binary',  # 'binary' for binary classification (pandas vs. bears)\n",
    "    subset='training'  # Specify 'training' for the training set\n",
    ")\n",
    "\n",
    "# Create ImageDataGenerator for validation set\n",
    "validation_datagen = ImageDataGenerator(\n",
    "    rescale=1./255,\n",
    "    validation_split=0.2  # Note: Using the same validation split as in the training set\n",
    ")\n",
    "\n",
    "# Load and prepare validation data\n",
    "validation_data = validation_datagen.flow_from_directory(\n",
    "    train_dir,\n",
    "    target_size=(256,256),\n",
    "    batch_size=32,\n",
    "    class_mode='binary',\n",
    "    subset='validation'  # Specify 'validation' for the validation set\n",
    ")"
   ]
  },
  {
   "cell_type": "code",
   "execution_count": 5,
   "id": "fe792785",
   "metadata": {},
   "outputs": [
    {
     "name": "stdout",
     "output_type": "stream",
     "text": [
      "WARNING:tensorflow:From C:\\Users\\Maryam Waleed\\anaconda3\\Lib\\site-packages\\keras\\src\\backend.py:873: The name tf.get_default_graph is deprecated. Please use tf.compat.v1.get_default_graph instead.\n",
      "\n",
      "WARNING:tensorflow:From C:\\Users\\Maryam Waleed\\anaconda3\\Lib\\site-packages\\keras\\src\\layers\\normalization\\batch_normalization.py:979: The name tf.nn.fused_batch_norm is deprecated. Please use tf.compat.v1.nn.fused_batch_norm instead.\n",
      "\n",
      "Downloading data from https://storage.googleapis.com/tensorflow/keras-applications/resnet/resnet50_weights_tf_dim_ordering_tf_kernels_notop.h5\n",
      "94765736/94765736 [==============================] - 18s 0us/step\n"
     ]
    }
   ],
   "source": [
    "from tensorflow import keras\n",
    "from keras import Sequential\n",
    "from keras.layers import Dense,Conv2D,MaxPooling2D,Flatten\n",
    "\n",
    "resnet_model = Sequential()    #ResNet50 is a pre-trained model\n",
    "pretrained_model = tf.keras.applications.ResNet50(include_top = False, #because i have my own image of a diff dimension\n",
    "                                                input_shape = (256,256,3),\n",
    "                                                pooling = 'max', classes = 2,\n",
    "                                                weights = 'imagenet')\n",
    "for layer in pretrained_model.layers:\n",
    "    layer.trainable = False  #all layers in the Resnet50 is not trainable; keep those weights; I am going to add my own i/p and other layers\n",
    "\n",
    "resnet_model.add(pretrained_model)\n",
    "resnet_model.add(Flatten())\n",
    "resnet_model.add(Dense(512, activation = 'relu'))\n",
    "resnet_model.add(Dense(1, activation = 'sigmoid'))"
   ]
  },
  {
   "cell_type": "code",
   "execution_count": 7,
   "id": "629b949f",
   "metadata": {},
   "outputs": [
    {
     "name": "stdout",
     "output_type": "stream",
     "text": [
      "Model: \"sequential\"\n",
      "_________________________________________________________________\n",
      " Layer (type)                Output Shape              Param #   \n",
      "=================================================================\n",
      " resnet50 (Functional)       (None, 2048)              23587712  \n",
      "                                                                 \n",
      " flatten (Flatten)           (None, 2048)              0         \n",
      "                                                                 \n",
      " dense (Dense)               (None, 512)               1049088   \n",
      "                                                                 \n",
      " dense_1 (Dense)             (None, 1)                 513       \n",
      "                                                                 \n",
      "=================================================================\n",
      "Total params: 24637313 (93.98 MB)\n",
      "Trainable params: 1049601 (4.00 MB)\n",
      "Non-trainable params: 23587712 (89.98 MB)\n",
      "_________________________________________________________________\n"
     ]
    }
   ],
   "source": [
    "resnet_model.summary()"
   ]
  },
  {
   "cell_type": "code",
   "execution_count": 6,
   "id": "523fa6da",
   "metadata": {},
   "outputs": [],
   "source": [
    "from keras.optimizers import Adam\n",
    "resnet_model.compile(optimizer=Adam(learning_rate=0.001),loss='binary_crossentropy',metrics=['accuracy']) #binary_crossentropy - binary classification"
   ]
  },
  {
   "cell_type": "code",
   "execution_count": 8,
   "id": "007d7919",
   "metadata": {},
   "outputs": [
    {
     "name": "stdout",
     "output_type": "stream",
     "text": [
      "Epoch 1/3\n",
      "WARNING:tensorflow:From C:\\Users\\Maryam Waleed\\anaconda3\\Lib\\site-packages\\keras\\src\\utils\\tf_utils.py:492: The name tf.ragged.RaggedTensorValue is deprecated. Please use tf.compat.v1.ragged.RaggedTensorValue instead.\n",
      "\n",
      "WARNING:tensorflow:From C:\\Users\\Maryam Waleed\\anaconda3\\Lib\\site-packages\\keras\\src\\engine\\base_layer_utils.py:384: The name tf.executing_eagerly_outside_functions is deprecated. Please use tf.compat.v1.executing_eagerly_outside_functions instead.\n",
      "\n",
      "13/13 [==============================] - 37s 3s/step - loss: 2.3146 - accuracy: 0.6100 - val_loss: 1.1441 - val_accuracy: 0.6900\n",
      "Epoch 2/3\n",
      "13/13 [==============================] - 28s 2s/step - loss: 0.2940 - accuracy: 0.8900 - val_loss: 0.2633 - val_accuracy: 0.8900\n",
      "Epoch 3/3\n",
      "13/13 [==============================] - 28s 2s/step - loss: 0.1206 - accuracy: 0.9650 - val_loss: 0.0438 - val_accuracy: 0.9900\n"
     ]
    }
   ],
   "source": [
    "history = resnet_model.fit(train_data, epochs=3, validation_data=validation_data)"
   ]
  },
  {
   "cell_type": "code",
   "execution_count": 9,
   "id": "dbda102d",
   "metadata": {},
   "outputs": [
    {
     "data": {
      "image/png": "[encoded data removed]",
      "text/plain": [
       "<Figure size 640x480 with 1 Axes>"
      ]
     },
     "metadata": {},
     "output_type": "display_data"
    }
   ],
   "source": [
    "import matplotlib.pyplot as plt\n",
    "\n",
    "plt.plot(history.history['accuracy'],color='red',label='train')\n",
    "plt.plot(history.history['val_accuracy'],color='blue',label='validation')\n",
    "plt.legend()\n",
    "plt.show()"
   ]
  },
  {
   "cell_type": "code",
   "execution_count": 10,
   "id": "87c3280e",
   "metadata": {},
   "outputs": [
    {
     "data": {
      "image/png": "[encoded data removed]",
      "text/plain": [
       "<Figure size 640x480 with 1 Axes>"
      ]
     },
     "metadata": {},
     "output_type": "display_data"
    }
   ],
   "source": [
    "plt.plot(history.history['loss'],color='red',label='train')\n",
    "plt.plot(history.history['val_loss'],color='blue',label='validation')\n",
    "plt.legend()\n",
    "plt.show()"
   ]
  },
  {
   "cell_type": "code",
   "execution_count": 11,
   "id": "484914ac",
   "metadata": {},
   "outputs": [
    {
     "name": "stdout",
     "output_type": "stream",
     "text": [
      "Found 100 images belonging to 2 classes.\n"
     ]
    }
   ],
   "source": [
    "test_datagen = ImageDataGenerator(rescale=1./255)\n",
    "test_data = test_datagen.flow_from_directory(\n",
    "    test_dir,\n",
    "    target_size=(256,256),\n",
    "    batch_size=32,\n",
    "    class_mode='binary'\n",
    ")"
   ]
  },
  {
   "cell_type": "code",
   "execution_count": 12,
   "id": "e96f1a4a",
   "metadata": {},
   "outputs": [
    {
     "name": "stdout",
     "output_type": "stream",
     "text": [
      "4/4 [==============================] - 7s 1s/step\n",
      "[[9.99997854e-01]\n",
      " [1.00000000e+00]\n",
      " [8.88302515e-04]\n",
      " [2.39524437e-04]\n",
      " [2.42924437e-01]\n",
      " [4.22740402e-03]\n",
      " [2.74359452e-04]\n",
      " [9.99633431e-01]\n",
      " [8.08115641e-04]\n",
      " [1.00524921e-03]\n",
      " [9.99990880e-01]\n",
      " [1.20677252e-03]\n",
      " [5.62269380e-03]\n",
      " [7.86737353e-02]\n",
      " [9.99965966e-01]\n",
      " [2.01615002e-02]\n",
      " [9.88431454e-01]\n",
      " [9.98667657e-01]\n",
      " [1.18273892e-03]\n",
      " [1.37167964e-02]\n",
      " [9.99987185e-01]\n",
      " [7.65795680e-03]\n",
      " [8.84345844e-02]\n",
      " [9.99067485e-01]\n",
      " [9.99999225e-01]\n",
      " [3.20652092e-04]\n",
      " [2.47349497e-02]\n",
      " [9.68461692e-01]\n",
      " [9.99999940e-01]\n",
      " [7.32298184e-04]\n",
      " [9.94118035e-01]\n",
      " [3.78989354e-02]\n",
      " [9.99306083e-01]\n",
      " [9.87607956e-01]\n",
      " [4.43075900e-04]\n",
      " [9.99747217e-01]\n",
      " [9.97909129e-01]\n",
      " [4.04310692e-03]\n",
      " [9.99773622e-01]\n",
      " [2.01200740e-03]\n",
      " [9.99945998e-01]\n",
      " [9.99999821e-01]\n",
      " [1.57826510e-03]\n",
      " [1.18235080e-03]\n",
      " [5.31811907e-04]\n",
      " [1.67173907e-01]\n",
      " [2.33190227e-03]\n",
      " [9.48228836e-01]\n",
      " [9.99977291e-01]\n",
      " [1.82219563e-04]\n",
      " [1.39518140e-03]\n",
      " [1.00000000e+00]\n",
      " [9.99994814e-01]\n",
      " [1.64925773e-03]\n",
      " [9.99999940e-01]\n",
      " [9.99988079e-01]\n",
      " [9.39556777e-01]\n",
      " [9.99714315e-01]\n",
      " [3.85411491e-04]\n",
      " [7.49351049e-04]\n",
      " [1.30942368e-04]\n",
      " [9.99997199e-01]\n",
      " [9.99999762e-01]\n",
      " [1.00000000e+00]\n",
      " [5.69175463e-03]\n",
      " [3.10228253e-03]\n",
      " [2.77265301e-03]\n",
      " [1.75190135e-03]\n",
      " [9.99995470e-01]\n",
      " [9.99508679e-01]\n",
      " [7.17065344e-03]\n",
      " [2.12853635e-03]\n",
      " [4.63936618e-03]\n",
      " [8.66195083e-01]\n",
      " [1.46149471e-03]\n",
      " [1.29305795e-02]\n",
      " [1.00000000e+00]\n",
      " [9.99928236e-01]\n",
      " [1.19749457e-02]\n",
      " [9.99999344e-01]\n",
      " [9.99995768e-01]\n",
      " [2.52789576e-02]\n",
      " [9.99998808e-01]\n",
      " [9.99987006e-01]\n",
      " [9.99997795e-01]\n",
      " [5.67442644e-03]\n",
      " [8.67277943e-03]\n",
      " [4.10842299e-01]\n",
      " [9.96667922e-01]\n",
      " [9.99999464e-01]\n",
      " [1.03457761e-03]\n",
      " [2.99406141e-01]\n",
      " [9.99992371e-01]\n",
      " [2.40250910e-03]\n",
      " [9.83473241e-01]\n",
      " [9.99913096e-01]\n",
      " [5.25638312e-02]\n",
      " [9.99989748e-01]\n",
      " [3.61228624e-04]\n",
      " [9.99711931e-01]]\n"
     ]
    }
   ],
   "source": [
    "#predict the test data\n",
    "predictions = resnet_model.predict(test_data)\n",
    "print(predictions)"
   ]
  },
  {
   "cell_type": "code",
   "execution_count": 13,
   "id": "bce36854",
   "metadata": {},
   "outputs": [
    {
     "data": {
      "text/plain": [
       "100"
      ]
     },
     "execution_count": 13,
     "metadata": {},
     "output_type": "execute_result"
    }
   ],
   "source": [
    "len(predictions)"
   ]
  },
  {
   "cell_type": "code",
   "execution_count": 14,
   "id": "bbf9458f",
   "metadata": {},
   "outputs": [
    {
     "name": "stdout",
     "output_type": "stream",
     "text": [
      "Confusion Matrix:\n",
      "[[28 22]\n",
      " [24 26]]\n",
      "Classification Report:\n",
      "              precision    recall  f1-score   support\n",
      "\n",
      "           0       0.54      0.56      0.55        50\n",
      "           1       0.54      0.52      0.53        50\n",
      "\n",
      "    accuracy                           0.54       100\n",
      "   macro avg       0.54      0.54      0.54       100\n",
      "weighted avg       0.54      0.54      0.54       100\n",
      "\n"
     ]
    }
   ],
   "source": [
    "from sklearn.metrics import confusion_matrix, classification_report\n",
    "\n",
    "# Assuming you have ground truth labels (true_labels) and predicted labels (predictions)\n",
    "true_labels = test_data.classes\n",
    "predicted_labels = (predictions > 0.5).astype(int)  # Adjust the threshold as needed\n",
    "\n",
    "# Calculate confusion matrix\n",
    "cm = confusion_matrix(true_labels, predicted_labels)\n",
    "\n",
    "# Print confusion matrix\n",
    "print(\"Confusion Matrix:\")\n",
    "print(cm)\n",
    "\n",
    "# Print classification report\n",
    "print(\"Classification Report:\")\n",
    "print(classification_report(true_labels, predicted_labels))"
   ]
  },
  {
   "cell_type": "code",
   "execution_count": null,
   "id": "357a86eb",
   "metadata": {},
   "outputs": [],
   "source": []
  }
 ],
 "metadata": {
  "kernelspec": {
   "display_name": "Python 3 (ipykernel)",
   "language": "python",
   "name": "python3"
  },
  "language_info": {
   "codemirror_mode": {
    "name": "ipython",
    "version": 3
   },
   "file_extension": ".py",
   "mimetype": "text/x-python",
   "name": "python",
   "nbconvert_exporter": "python",
   "pygments_lexer": "ipython3",
   "version": "3.11.5"
  }
 },
 "nbformat": 4,
 "nbformat_minor": 5
}
